{
 "cells": [
  {
   "cell_type": "markdown",
   "metadata": {},
   "source": [
    "# This notebook checks the fit function parameters and phase differences."
   ]
  },
  {
   "cell_type": "code",
   "execution_count": 2,
   "metadata": {
    "collapsed": true
   },
   "outputs": [],
   "source": [
    "import numpy as np\n",
    "import os.path\n",
    "\n",
    "HOME_DIR = os.path.expanduser(\"~\")\n",
    "ES_BASEDIR = HOME_DIR + \"/Dropbox/Research/energy_spectra\"\n",
    "day = \"151204\"\n",
    "prefix = \"GX339-BQPO\""
   ]
  },
  {
   "cell_type": "code",
   "execution_count": 3,
   "metadata": {
    "collapsed": true
   },
   "outputs": [],
   "source": [
    "def fit_function(t, p):\n",
    "    \"\"\"\n",
    "    Computing a function to fit to the spectral parameter variations. This is\n",
    "    exactly the same as what's in energy_spectra/multifit_plots.py and\n",
    "    simulate/fake_qpo_spectra.py.\n",
    "\n",
    "    Parameters\n",
    "    ----------\n",
    "    t : np.array of floats\n",
    "        1-D array of time steps for the fit function.\n",
    "\n",
    "    p : np.array of floats\n",
    "        1-D array of the function parameters.\n",
    "\n",
    "    Returns\n",
    "    -------\n",
    "    np.array of floats\n",
    "        1-D array of the function fit to the data at steps t with parameters p.\n",
    "    \"\"\"\n",
    "    return p[0] * np.sin(2. * np.pi * t + p[1]) + \\\n",
    "           p[2] * np.sin(2. * 2. * np.pi * t + p[3]) + p[4]"
   ]
  },
  {
   "cell_type": "code",
   "execution_count": 8,
   "metadata": {
    "collapsed": false
   },
   "outputs": [],
   "source": [
    "def get_funcfit_pars(fit_specifier, third):\n",
    "    \n",
    "    boot_parfit_file = ES_BASEDIR + \"/out_es/\" + prefix + \\\n",
    "            \"/bootstrapped/\" + prefix + \"_\" + day + \"_\" + \\\n",
    "            fit_specifier + \"_funcfit.txt\"    \n",
    "    assert os.path.isfile(boot_parfit_file)\n",
    "    \n",
    "    t_bins = np.arange(0,1,0.001)\n",
    "    all_boot_bestfits = np.zeros((3, 5, 1))\n",
    "    all_max_phase_boot = np.zeros((3,1))\n",
    "    all_min_phase_boot = np.zeros((3,1))\n",
    "    \n",
    "    with open(boot_parfit_file, 'r') as f:\n",
    "        j = 0\n",
    "        for line in f:\n",
    "            i = 0\n",
    "            boot_bestfit = np.zeros(5)\n",
    "            line_element = line.strip().split(\"    \")\n",
    "            boot_model_name = line_element[0][1:-1]\n",
    "            for element in line_element[1:]:\n",
    "                if \"[\" in element or \"]\" in element or \",\" in element:\n",
    "                    parameter_bestfit = np.array(element.replace('[',\n",
    "                            '').replace(']', '').split(','), dtype=np.float)\n",
    "                    boot_bestfit = np.vstack((boot_bestfit, \n",
    "                                              parameter_bestfit))\n",
    "                    i += 1  ## Loops through untied parameters\n",
    "            if np.isnan(boot_bestfit).any():\n",
    "#                 print \"It's nan:, %d\" % j\n",
    "                pass\n",
    "            else:\n",
    "                all_boot_bestfits = np.dstack((all_boot_bestfits,\n",
    "                        boot_bestfit[1:,]))\n",
    "                max_phase_boot = []\n",
    "                min_phase_boot = []\n",
    "                for k in range(0,3):\n",
    "                    this_boot = np.array([boot_bestfit[k+1,0], \n",
    "                                     boot_bestfit[k+1,1], \n",
    "                                     boot_bestfit[k+1,2], \n",
    "                                     boot_bestfit[k+1,3], \n",
    "                                     boot_bestfit[k+1,4]])\n",
    "                    func = fit_function(t_bins, this_boot)\n",
    "                    max_phase_boot.append(t_bins[np.argmax(func)])\n",
    "                    min_phase_boot.append(t_bins[np.argmin(func)])\n",
    "                \n",
    "                all_max_phase_boot = np.hstack((all_max_phase_boot, np.reshape(np.array(max_phase_boot), (3,1))))\n",
    "                all_min_phase_boot = np.hstack((all_min_phase_boot, np.reshape(np.array(min_phase_boot), (3,1))))\n",
    "                \n",
    "            j += 1  ## Loops through bootstraps\n",
    "\n",
    "    ## Gets rid of the initial zeros\n",
    "    all_boot_bestfits = all_boot_bestfits[:,:,1:] \n",
    "    all_max_phase_boot = all_max_phase_boot[:,1:]\n",
    "    all_min_phase_boot = all_min_phase_boot[:,1:]\n",
    "    \n",
    "    ## Normalize phases to 1\n",
    "    all_boot_bestfits[:,1,:] /= (2.0 * np.pi)\n",
    "    all_boot_bestfits[:,3,:] /= (2.0 * np.pi)\n",
    "\n",
    "    print \"Shape of all boot bestfits:\", np.shape(all_boot_bestfits)\n",
    "    print \"(spec parameter, funcfit parameter, bootstrap)\"\n",
    "    par_name = [\"\\Gamma\", \"\\Fscatt\", third]\n",
    "    \n",
    "    ##########\n",
    "    \n",
    "    data_bestfit_file = ES_BASEDIR + \"/out_es/\" + prefix + \\\n",
    "            \"/\" + prefix + \"_\" + day + \"_\" + fit_specifier +\\\n",
    "            \"_final_bestfit.txt\"\n",
    "    \n",
    "    assert os.path.isfile(data_bestfit_file), \\\n",
    "            \"ERROR: File does not exist: %s\" % data_bestfit_file\n",
    "        \n",
    "    with open(data_bestfit_file, 'r') as f:\n",
    "        for line in f:\n",
    "            data_bestfit = np.zeros(5)\n",
    "            line_element = line.strip().split(\"    \")\n",
    "            data_model_name = line_element[0][1:-1]\n",
    "            for element in line_element[1:]:\n",
    "                if \"[\" in element or \"]\" in element or \",\" in element:\n",
    "                    parameter_bestfit = np.array(element.replace('[',\n",
    "                            '').replace(']', '').split(','), dtype=np.float)\n",
    "                    data_bestfit = np.vstack((data_bestfit, \n",
    "                                              parameter_bestfit))\n",
    "\n",
    "    ## Gets rid of initial zeros\n",
    "    data_bestfit = data_bestfit[1:,]  \n",
    "    ## Normalize phases to 1\n",
    "    data_bestfit[:,1] /= (2.0 * np.pi)\n",
    "    data_bestfit[:,3] /= (2.0 * np.pi)\n",
    "    \n",
    "    print \"\\n\\nShape of data bestfit:\", np.shape(data_bestfit)\n",
    "    maxval_phase = []\n",
    "    minval_phase = []\n",
    "\n",
    "    print \"\\midrule\"\n",
    "    for i in range(0,3):\n",
    "        this_data = np.array([data_bestfit[i,0], \n",
    "                             data_bestfit[i,1]*2*np.pi, \n",
    "                             data_bestfit[i,2], \n",
    "                             data_bestfit[i,3]*2*np.pi, \n",
    "                             data_bestfit[i,4]])\n",
    "        func = fit_function(t_bins, this_data)\n",
    "        maxval_phase.append(t_bins[np.argmax(func)])\n",
    "        minval_phase.append(t_bins[np.argmin(func)])\n",
    "        \n",
    "#         print \" & $%s$ & $%.4f\\pm%.4f$ & $%.3f\\pm%.3f$ & $%.3f\\pm%.3f$ & $%.3f\\pm%.3f$ & $%.3f\\pm%.3f$ & $%.3f\\pm%.3f$ \\\\\\\\\" % \\\n",
    "#                 (par_name[i], data_bestfit[i,0], np.sqrt(np.var(all_boot_bestfits[i,0,:], ddof=1)),\n",
    "#                 data_bestfit[i,1], np.sqrt(np.var(all_boot_bestfits[i,1,:], ddof=1)),\n",
    "#                 data_bestfit[i,2], np.sqrt(np.var(all_boot_bestfits[i,2,:], ddof=1)),\n",
    "#                 data_bestfit[i,3], np.sqrt(np.var(all_boot_bestfits[i,3,:], ddof=1)),\n",
    "#                 data_bestfit[i,4], np.sqrt(np.var(all_boot_bestfits[i,4,:], ddof=1)),\n",
    "#                 t_bins[np.argmax(func)], np.sqrt(np.var(all_max_phase_boot[i,:], ddof=1)))\n",
    "#         print np.var(func)\n",
    "        print np.sqrt(np.var(func))\n",
    "    \n",
    "    print \"\\n Phase diffs from maxes\"\n",
    "    print \"FS - G: $%.3f \\pm %.3f$\" % (maxval_phase[1] - maxval_phase[0], np.sqrt(np.var(all_max_phase_boot[1,:], ddof=1)) + np.sqrt(np.var(all_max_phase_boot[0,:], ddof=1)))\n",
    "    print \"FS - bb: $%.2f \\pm %.2f$\" % (maxval_phase[1] - maxval_phase[2], np.sqrt(np.var(all_max_phase_boot[1,:], ddof=1)) + np.sqrt(np.var(all_max_phase_boot[2,:], ddof=1)))\n",
    "    print \"Only for pBB: FS max - BB min: $%.2f \\pm %.2f$\" % ( maxval_phase[1] - minval_phase[2], np.sqrt(np.var(all_min_phase_boot[i,:], ddof=1)))"
   ]
  },
  {
   "cell_type": "markdown",
   "metadata": {},
   "source": [
    "**Fit function:** p0 sin(2 pi t + p1) + p2 sin(4 pi t + p3) + p4"
   ]
  },
  {
   "cell_type": "markdown",
   "metadata": {},
   "source": [
    "# 1 BB"
   ]
  },
  {
   "cell_type": "code",
   "execution_count": 9,
   "metadata": {
    "collapsed": false
   },
   "outputs": [
    {
     "name": "stdout",
     "output_type": "stream",
     "text": [
      "Shape of all boot bestfits: (3, 5, 5532)\n",
      "(spec parameter, funcfit parameter, bootstrap)\n",
      "\n",
      "\n",
      "Shape of data bestfit: (3, 5)\n",
      "\\midrule\n",
      "0.105282318079\n",
      "0.0380752260354\n",
      "0.00293991188555\n",
      "\n",
      " Phase diffs from maxes\n",
      "FS - G: $0.005 \\pm 0.015$\n",
      "FS - bb: $0.32 \\pm 0.02$\n",
      "Only for pBB: FS max - BB min: $-0.10 \\pm 0.03$\n"
     ]
    }
   ],
   "source": [
    "fit_specifier = \"1BB-FS-G-Tin-fzs-fzNbb\"\n",
    "get_funcfit_pars(fit_specifier, \"\\Tdisk\")"
   ]
  },
  {
   "cell_type": "markdown",
   "metadata": {},
   "source": [
    "# 2 BB"
   ]
  },
  {
   "cell_type": "code",
   "execution_count": 22,
   "metadata": {
    "collapsed": false
   },
   "outputs": [
    {
     "name": "stdout",
     "output_type": "stream",
     "text": [
      "Shape of all boot bestfits: (3, 5, 5504)\n",
      "(spec parameter, funcfit parameter, bootstrap)\n",
      "\n",
      "\n",
      "Shape of data bestfit: (3, 5)\n",
      "\\midrule\n",
      " & $\\Gamma$ & $0.1738\\pm0.0155$ & $-0.141\\pm0.005$ & $0.014\\pm0.011$ & $0.119\\pm0.206$ & $2.438\\pm0.011$ & $0.417\\pm0.007$ \\\\\n",
      " & $\\Fscatt$ & $0.0588\\pm0.0030$ & $-0.189\\pm0.002$ & $-0.007\\pm0.001$ & $-0.108\\pm0.008$ & $0.180\\pm0.003$ & $0.436\\pm0.002$ \\\\\n",
      " & $\\Tbb$ & $0.0060\\pm0.0006$ & $0.118\\pm0.013$ & $-0.001\\pm0.001$ & $0.292\\pm0.222$ & $0.493\\pm0.002$ & $0.155\\pm0.019$ \\\\\n",
      "\n",
      " Phase diffs from maxes\n",
      "FS - G: $0.019 \\pm 0.009$\n",
      "FS - bb: $0.28 \\pm 0.02$\n",
      "Only for pBB: FS max - BB min: $-0.17 \\pm 0.03$\n"
     ]
    }
   ],
   "source": [
    "fit_specifier = \"2BB-FS-G-kT-fzs-fzNbb8857-2\"\n",
    "get_funcfit_pars(fit_specifier, \"\\Tbb\")"
   ]
  },
  {
   "cell_type": "markdown",
   "metadata": {},
   "source": [
    "# pBB"
   ]
  },
  {
   "cell_type": "code",
   "execution_count": 23,
   "metadata": {
    "collapsed": false,
    "scrolled": true
   },
   "outputs": [
    {
     "name": "stdout",
     "output_type": "stream",
     "text": [
      "Shape of all boot bestfits: (3, 5, 5530)\n",
      "(spec parameter, funcfit parameter, bootstrap)\n",
      "\n",
      "\n",
      "Shape of data bestfit: (3, 5)\n",
      "\\midrule\n",
      " & $\\Gamma$ & $0.1706\\pm0.0142$ & $-0.149\\pm0.006$ & $0.015\\pm0.012$ & $0.125\\pm0.205$ & $2.439\\pm0.011$ & $0.425\\pm0.008$ \\\\\n",
      " & $\\Fscatt$ & $0.0465\\pm0.0021$ & $-0.200\\pm0.003$ & $-0.006\\pm0.001$ & $-0.129\\pm0.013$ & $0.131\\pm0.001$ & $0.446\\pm0.004$ \\\\\n",
      " & $p$ & $-0.0045\\pm0.0005$ & $0.168\\pm0.016$ & $-0.001\\pm0.001$ & $-0.189\\pm0.545$ & $0.507\\pm0.002$ & $0.547\\pm0.039$ \\\\\n",
      "\n",
      " Phase diffs from maxes\n",
      "FS - G: $0.021 \\pm 0.012$\n",
      "FS - bb: $-0.10 \\pm 0.04$\n",
      "Only for pBB: FS max - BB min: $0.33 \\pm 0.02$\n"
     ]
    }
   ],
   "source": [
    "fit_specifier = \"pBB-FS-G-p-fzs-fzNbb\"\n",
    "get_funcfit_pars(fit_specifier, \"p\")"
   ]
  },
  {
   "cell_type": "code",
   "execution_count": null,
   "metadata": {
    "collapsed": true
   },
   "outputs": [],
   "source": []
  },
  {
   "cell_type": "code",
   "execution_count": null,
   "metadata": {
    "collapsed": true
   },
   "outputs": [],
   "source": []
  }
 ],
 "metadata": {
  "kernelspec": {
   "display_name": "Python 2",
   "language": "python",
   "name": "python2"
  },
  "language_info": {
   "codemirror_mode": {
    "name": "ipython",
    "version": 2
   },
   "file_extension": ".py",
   "mimetype": "text/x-python",
   "name": "python",
   "nbconvert_exporter": "python",
   "pygments_lexer": "ipython2",
   "version": "2.7.10"
  }
 },
 "nbformat": 4,
 "nbformat_minor": 0
}
